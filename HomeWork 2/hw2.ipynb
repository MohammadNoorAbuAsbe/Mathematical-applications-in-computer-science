{
  "nbformat": 4,
  "nbformat_minor": 0,
  "metadata": {
    "colab": {
      "name": "hw2.ipynb",
      "provenance": [],
      "collapsed_sections": []
    },
    "kernelspec": {
      "display_name": "Python 3",
      "language": "python",
      "name": "python3"
    },
    "language_info": {
      "codemirror_mode": {
        "name": "ipython",
        "version": 3
      },
      "file_extension": ".py",
      "mimetype": "text/x-python",
      "name": "python",
      "nbconvert_exporter": "python",
      "pygments_lexer": "ipython3",
      "version": "3.9.2"
    }
  },
  "cells": [
    {
      "cell_type": "markdown",
      "metadata": {
        "id": "Z8od8zQKLcEp"
      },
      "source": [
        "Before you turn this problem in, make sure everything runs as expected. First, **restart the kernel** (in the menubar, select Kernel$\\rightarrow$Restart) and then **run all cells** (in the menubar, select Cell$\\rightarrow$Run All).\n",
        "\n",
        "Make sure you fill in any place that says `YOUR CODE HERE` or \"YOUR ANSWER HERE\", as well as your name and collaborators below:"
      ]
    },
    {
      "cell_type": "code",
      "metadata": {
        "id": "rREefbthLcEv"
      },
      "source": [
        "NAME = \"Mohammad Noor AbuAsbe\"\n",
        "COLLABORATORS = \"\""
      ],
      "execution_count": 256,
      "outputs": []
    },
    {
      "cell_type": "markdown",
      "metadata": {
        "id": "CkvW8ZPMLcEw"
      },
      "source": [
        "---"
      ]
    },
    {
      "cell_type": "markdown",
      "metadata": {
        "id": "-Ddvr3pHG4yc"
      },
      "source": [
        "# Assignment 2: Applications of modular arithmetics"
      ]
    },
    {
      "cell_type": "code",
      "metadata": {
        "deletable": false,
        "editable": false,
        "id": "_pVdjMLHG4yd",
        "nbgrader": {
          "cell_type": "code",
          "checksum": "f30147f745df9fd67c728eacb0ab89b0",
          "grade": false,
          "grade_id": "cell-2c47810b587eba40",
          "locked": true,
          "schema_version": 3,
          "solution": false,
          "task": false
        }
      },
      "source": [
        "import math"
      ],
      "execution_count": 257,
      "outputs": []
    },
    {
      "cell_type": "markdown",
      "metadata": {
        "deletable": false,
        "editable": false,
        "nbgrader": {
          "cell_type": "markdown",
          "checksum": "497d1b15be506d142f51ee61509b66f8",
          "grade": false,
          "grade_id": "cell-8e70e66cf8309900",
          "locked": true,
          "schema_version": 3,
          "solution": false,
          "task": false
        },
        "id": "Rdyw0EAXLcEz"
      },
      "source": [
        "## Question 1: Cryptography\n",
        "\n",
        "You will implement and analyze two simple cryptographic algorithms — Caesar's and Scytale ciphers.\n",
        "\n",
        "1. Implement the encoder for Ceasar's cipher: https://en.wikipedia.org/wiki/Caesar_cipher (encode only the letters, leave other characters as-is)."
      ]
    },
    {
      "cell_type": "markdown",
      "metadata": {
        "deletable": false,
        "editable": false,
        "nbgrader": {
          "cell_type": "markdown",
          "checksum": "133528ef6fd0ecf3aa9c4c0f304f90d2",
          "grade": false,
          "grade_id": "cell-aa8d321622afeb5c",
          "locked": true,
          "schema_version": 3,
          "solution": false,
          "task": false
        },
        "id": "P8pYCoXhLcEz"
      },
      "source": [
        "Q1.1: Implement function `ceasar_cipher`, which will transform regular text into encoded text\n",
        "<pre> \n",
        "------------\n",
        "Input parameters:\n",
        "- plaintext - string, the text that should be encrypted\n",
        "- N - int, size of shift\n",
        "------------\n",
        "return value:\n",
        "string, the text after encoding\n",
        "</pre> "
      ]
    },
    {
      "cell_type": "code",
      "metadata": {
        "deletable": false,
        "nbgrader": {
          "cell_type": "code",
          "checksum": "ef22d0eb334ce10cb53d28efd457e741",
          "grade": false,
          "grade_id": "cell-fcc26ea16c7fcc6e",
          "locked": false,
          "schema_version": 3,
          "solution": true,
          "task": false
        },
        "id": "f_pBmrWGLcE0"
      },
      "source": [
        "def ceasar_cipher(plaintext,N=1):    \n",
        "   # YOUR CODE HERE\n",
        "   ciphText = \"\"\n",
        "   for char in plaintext:\n",
        "     if char.isalpha():\n",
        "       if ord('a') <= ord(char):\n",
        "         ciphText = alphaReducer('a', char, N, ciphText)\n",
        "       else:\n",
        "         ciphText = alphaReducer('A', char, N, ciphText)\n",
        "     else:\n",
        "       ciphText = ciphText + char\n",
        "   return ciphText\n",
        "\n",
        "def alphaReducer(firstCharInSize, char, N, ciphText):\n",
        "   val = ((ord(char) - ord(firstCharInSize)) + N) % 26\n",
        "   val = val + ord(firstCharInSize)\n",
        "   ciphText = ciphText + chr(val)\n",
        "   return ciphText"
      ],
      "execution_count": 258,
      "outputs": []
    },
    {
      "cell_type": "code",
      "metadata": {
        "deletable": false,
        "editable": false,
        "nbgrader": {
          "cell_type": "code",
          "checksum": "c5046e5105d34828cc13a09ce4b01d9a",
          "grade": true,
          "grade_id": "cell-910c1caba85f9efe",
          "locked": true,
          "points": 10,
          "schema_version": 3,
          "solution": false,
          "task": false
        },
        "id": "XZSLt_1hLcE0",
        "colab": {
          "base_uri": "https://localhost:8080/"
        },
        "outputId": "59075011-9d57-4101-be17-d004370b2c00"
      },
      "source": [
        "# --------------------------- RUN THIS TEST CODE CELL -------------------------------------\n",
        "# Q1.1 --- Test your implementation:\n",
        "# ---------------------------\n",
        "print (\"Testing the implementation of the 'ceasarCipher' function..\\n \")\n",
        "assert type(ceasar_cipher(\"meep meep\",1))==str,'output type is incorrect, should be string'\n",
        "print (\"good job!\\nTests passed. There may be hidden tests too\")\n"
      ],
      "execution_count": 259,
      "outputs": [
        {
          "output_type": "stream",
          "text": [
            "Testing the implementation of the 'ceasarCipher' function..\n",
            " \n",
            "good job!\n",
            "Tests passed. There may be hidden tests too\n"
          ],
          "name": "stdout"
        }
      ]
    },
    {
      "cell_type": "markdown",
      "metadata": {
        "deletable": false,
        "editable": false,
        "nbgrader": {
          "cell_type": "markdown",
          "checksum": "7a131319fb9eecb2bfd1f183265a82c2",
          "grade": false,
          "grade_id": "cell-2f70f1b68a8a3397",
          "locked": true,
          "schema_version": 3,
          "solution": false,
          "task": false
        },
        "id": "dm4JyQ6-LcE1"
      },
      "source": [
        "2. Implement a decoder function that can reverse the cypher you've created, and demonstrate it, by encoding and then decoding the implementation (the source code) of the Caesar cipher using Caesar cipher:\n",
        "  * Encode the Python code \n",
        "  * Decode the result of encoding\n",
        "  * Compare the original and the recovered code  - you can add a box where you print the results — they should be the same."
      ]
    },
    {
      "cell_type": "markdown",
      "metadata": {
        "deletable": false,
        "editable": false,
        "nbgrader": {
          "cell_type": "markdown",
          "checksum": "98b90cf6882853efd4352a6ab1da9475",
          "grade": false,
          "grade_id": "cell-7c4c505ac0fa2e26",
          "locked": true,
          "schema_version": 3,
          "solution": false,
          "task": false
        },
        "id": "RW9GtNEjLcE1"
      },
      "source": [
        "Q1.2A: Implement function `ceasar_cipher_decode`, which will restore the cyphertext created by `ceasar_cipher` to plaintext\n",
        "<pre> \n",
        "------------\n",
        "Input parameters:\n",
        "- cyphertext - string, the encoded text that needs to be decyphered\n",
        "- N - int, size of shift that was used in the encoding\n",
        "------------\n",
        "return value:\n",
        "string, the text after decoding\n",
        "</pre> "
      ]
    },
    {
      "cell_type": "code",
      "metadata": {
        "deletable": false,
        "nbgrader": {
          "cell_type": "code",
          "checksum": "2fd70691da6f553c1d235ea523c3acd0",
          "grade": false,
          "grade_id": "cell-fd561d08a5195124",
          "locked": false,
          "schema_version": 3,
          "solution": true,
          "task": false
        },
        "id": "XjeoOEn3LcE2"
      },
      "source": [
        "def ceasar_cipher_decode(cypherText,N=1):\n",
        "    # YOUR CODE HERE\n",
        "    return ceasar_cipher(cypherText , -N)"
      ],
      "execution_count": 260,
      "outputs": []
    },
    {
      "cell_type": "code",
      "metadata": {
        "colab": {
          "base_uri": "https://localhost:8080/"
        },
        "id": "oi2D-O7G_hd8",
        "outputId": "e058a1ab-9ff9-4d01-ed90-c420cb2a422c"
      },
      "source": [
        "def TestForCeasar(originaltext,N):\n",
        "    cyphered = ceasar_cipher(originaltext,N)\n",
        "    deCyphered = ceasar_cipher_decode(cyphered,N)\n",
        "    if deCyphered == originaltext:\n",
        "      print(\"The text returned to his original State\")\n",
        "      print(\"The original is = \" + originaltext)\n",
        "      print(\"After Cyphiring it became = \" + cyphered)\n",
        "      print(\"After DeCyphiring it became = \" + deCyphered)\n",
        "    else:\n",
        "      print(\"The text didnt return to its original State\")\n",
        "\n",
        "originaltext = \"TH3 QUICK BRoWN F0X JUMPS OVER THE LAZY DOG, Yay!\"\n",
        "TestForCeasar(originaltext,23)"
      ],
      "execution_count": 261,
      "outputs": [
        {
          "output_type": "stream",
          "text": [
            "The text returned to his original State\n",
            "The original is = TH3 QUICK BRoWN F0X JUMPS OVER THE LAZY DOG, Yay!\n",
            "After Cyphiring it became = QE3 NRFZH YOlTK C0U GRJMP LSBO QEB IXWV ALD, Vxv!\n",
            "After DeCyphiring it became = TH3 QUICK BRoWN F0X JUMPS OVER THE LAZY DOG, Yay!\n"
          ],
          "name": "stdout"
        }
      ]
    },
    {
      "cell_type": "code",
      "metadata": {
        "deletable": false,
        "editable": false,
        "nbgrader": {
          "cell_type": "code",
          "checksum": "4c2e141a225b5c654fbf5e5b4e009426",
          "grade": true,
          "grade_id": "cell-a3e55a24e9359804",
          "locked": true,
          "points": 8,
          "schema_version": 3,
          "solution": false,
          "task": false
        },
        "id": "RzXiBA4xLcE2",
        "colab": {
          "base_uri": "https://localhost:8080/"
        },
        "outputId": "24415300-aff0-47ee-950f-d76272fad5f9"
      },
      "source": [
        "# --------------------------- RUN THIS TEST CODE CELL -------------------------------------\n",
        "# Q1.2A --- Test your implementation:\n",
        "# ---------------------------\n",
        "print (\"Testing the implementation of the 'ceasarCipherDecode' function..\\n \")\n",
        "assert type(ceasar_cipher_decode(\"ABC\",3))==str,'output type is incorrect, should be string'\n",
        "print (\"good job!\\nTests passed. There may be hidden tests too\")"
      ],
      "execution_count": 262,
      "outputs": [
        {
          "output_type": "stream",
          "text": [
            "Testing the implementation of the 'ceasarCipherDecode' function..\n",
            " \n",
            "good job!\n",
            "Tests passed. There may be hidden tests too\n"
          ],
          "name": "stdout"
        }
      ]
    },
    {
      "cell_type": "markdown",
      "metadata": {
        "deletable": false,
        "editable": false,
        "nbgrader": {
          "cell_type": "markdown",
          "checksum": "5bb8fed6ba6af7af0cfd0cb03be18b86",
          "grade": false,
          "grade_id": "cell-ee77a41c23c60c7a",
          "locked": true,
          "schema_version": 3,
          "solution": false,
          "task": false
        },
        "id": "DUniCJsyLcE2"
      },
      "source": [
        "Q1.2B: Implement function `return_encrypted_ceasar_code`, which will return a string that equals the code of `ceasar_cipher` after encryption, with N=2 . Then, implement a function `return_decoded_ceasar_code` which will call `return_encrypted_ceasar_code` and return the decrypted outcome. \n",
        "<pre> \n",
        "return_encrypted_ceasar_code()\n",
        "------------\n",
        "Input parameters:\n",
        "none\n",
        "------------\n",
        "return value:\n",
        "string, the encrypted source code\n",
        "</pre> \n",
        "\n",
        "<pre> \n",
        "return_decoded_ceasar_code()\n",
        "------------\n",
        "Input parameters:\n",
        "encrypted_code - the output of return_encrypted_ceasar_code()\n",
        "------------\n",
        "return value:\n",
        "string, the source code restored to plaintext\n",
        "</pre> "
      ]
    },
    {
      "cell_type": "code",
      "metadata": {
        "deletable": false,
        "nbgrader": {
          "cell_type": "code",
          "checksum": "46e622133a13c9a6c934ebd2d9f39962",
          "grade": false,
          "grade_id": "cell-0c2fa8c5fcfb1b21",
          "locked": false,
          "schema_version": 3,
          "solution": true,
          "task": false
        },
        "id": "f8puDmMwLcE3"
      },
      "source": [
        "def return_encrypted_ceasar_code():\n",
        "    # YOUR CODE HERE\n",
        "    plaintext =  \"\"\"ciphText = \"\"\n",
        "   for char in plaintext:\n",
        "     if char.isalpha():\n",
        "       if ord('a') <= ord(char):\n",
        "         ciphText = alphaReducer('a', char, N, ciphText)\n",
        "       else:\n",
        "         ciphText = alphaReducer('A', char, N, ciphText)\n",
        "     else:\n",
        "       ciphText = ciphText + char\n",
        "   return ciphText\n",
        "\n",
        "def alphaReducer(firstCharInSize, char, N, ciphText):\n",
        "   val = ((ord(char) - ord(firstCharInSize)) + N) % 26\n",
        "   val = val + ord(firstCharInSize)\n",
        "   ciphText = ciphText + chr(val)\n",
        "   return ciphText\"\"\"\n",
        "    return ceasar_cipher(plaintext, 2)\n",
        "    \n",
        "def return_decoded_ceasar_code(encrypted_code=return_encrypted_ceasar_code()):\n",
        "    # YOUR CODE HERE\n",
        "    return ceasar_cipher_decode (encrypted_code, 2)"
      ],
      "execution_count": 263,
      "outputs": []
    },
    {
      "cell_type": "code",
      "metadata": {
        "deletable": false,
        "editable": false,
        "nbgrader": {
          "cell_type": "code",
          "checksum": "40d1ffdc628d78480aff7fac0b1f3a8d",
          "grade": true,
          "grade_id": "cell-290384e75f4cb72f",
          "locked": true,
          "points": 2,
          "schema_version": 3,
          "solution": false,
          "task": false
        },
        "id": "-hqA3M_DLcE3",
        "colab": {
          "base_uri": "https://localhost:8080/"
        },
        "outputId": "c29cd774-d500-4757-ef2c-a0c419e305ec"
      },
      "source": [
        "# --------------------------- RUN THIS TEST CODE CELL -------------------------------------\n",
        "# Q1.2B --- Test your implementation:\n",
        "# ---------------------------\n",
        "print (\"Testing the implementation of the 'ceasarCipherDecode' function..\\n \")\n",
        "assert type(return_encrypted_ceasar_code())==str,'output type is incorrect, should be string'\n",
        "assert type(return_decoded_ceasar_code())==str,'output type is incorrect, should be string'\n",
        "assert type(return_decoded_ceasar_code(\"some_arbitrary_string\"))==str,'output type is incorrect, should be string'\n",
        "print (\"good job!\\nTests passed. There may be hidden tests too\")"
      ],
      "execution_count": 264,
      "outputs": [
        {
          "output_type": "stream",
          "text": [
            "Testing the implementation of the 'ceasarCipherDecode' function..\n",
            " \n",
            "good job!\n",
            "Tests passed. There may be hidden tests too\n"
          ],
          "name": "stdout"
        }
      ]
    },
    {
      "cell_type": "markdown",
      "metadata": {
        "deletable": false,
        "editable": false,
        "nbgrader": {
          "cell_type": "markdown",
          "checksum": "52de22e4a87399f03d64872aa1f20cce",
          "grade": false,
          "grade_id": "cell-becf682f5c7ac425",
          "locked": true,
          "schema_version": 3,
          "solution": false,
          "task": false
        },
        "id": "6Xxi1aP9LcE4"
      },
      "source": [
        "\n",
        "3. Find a real English word consisting of at least 3 letters which, when encoded using Caesar's cipher, is transformed to another real English word. "
      ]
    },
    {
      "cell_type": "markdown",
      "metadata": {
        "deletable": false,
        "editable": false,
        "nbgrader": {
          "cell_type": "markdown",
          "checksum": "ba0cce017696450c60cc5e921fbe6bc5",
          "grade": false,
          "grade_id": "cell-0251dfd9eba3513d",
          "locked": true,
          "schema_version": 3,
          "solution": false,
          "task": false
        },
        "id": "A1RV7dcELcE4"
      },
      "source": [
        "Q1.3: Implement function `return_word_and_shift`, which returns a word in English, 3 letters or more in length, and an integer N so that if we apply Ceasar cypher to the word with shift N, we get another word in English.\n",
        "<pre> \n",
        "------------\n",
        "Input parameters:\n",
        "none\n",
        "------------\n",
        "return value:\n",
        "(word,shift)\n",
        "- word - string, a word in English\n",
        "- shift - integer, the size of N needed to encode it so that the cyphertext is also a word in English\n",
        "</pre> "
      ]
    },
    {
      "cell_type": "code",
      "metadata": {
        "deletable": false,
        "nbgrader": {
          "cell_type": "code",
          "checksum": "c029548aa69d859806ba79f20d566a98",
          "grade": false,
          "grade_id": "cell-61c68e5bc86ea006",
          "locked": false,
          "schema_version": 3,
          "solution": true,
          "task": false
        },
        "id": "FP74eZbTLcE5"
      },
      "source": [
        "def return_word_and_shift():\n",
        "    # YOUR CODE HERE\n",
        "    return (\"Sleep\", 9)"
      ],
      "execution_count": 265,
      "outputs": []
    },
    {
      "cell_type": "code",
      "metadata": {
        "deletable": false,
        "editable": false,
        "nbgrader": {
          "cell_type": "code",
          "checksum": "54eaad698f8db32561b5c537118b9efb",
          "grade": true,
          "grade_id": "cell-fcd88242abcbb20b",
          "locked": true,
          "points": 10,
          "schema_version": 3,
          "solution": false,
          "task": false
        },
        "id": "HG1hIgv_LcE5",
        "colab": {
          "base_uri": "https://localhost:8080/"
        },
        "outputId": "97e8f0f0-4d88-43c2-d079-2ec107b4d3cd"
      },
      "source": [
        "# --------------------------- RUN THIS TEST CODE CELL -------------------------------------\n",
        "# Q1.3 --- Test your implementation:\n",
        "# ---------------------------\n",
        "print (\"Testing the implementation of the 'hash_int' function..\\n \")\n",
        "found_word=return_word_and_shift()\n",
        "assert len(found_word)==2, 'function should return tuple with two values'\n",
        "assert type(found_word[0]) is str, 'the first part of the output should be of type string'\n",
        "assert type(found_word[1]) is int, 'the secondpart of the output should be of type int'\n",
        "assert len(found_word[0])>=3, 'the word should be at least 3 letters long'\n",
        "print (\"good job!\\nTests passed. There may be hidden tests too\")\n",
        "\n"
      ],
      "execution_count": 266,
      "outputs": [
        {
          "output_type": "stream",
          "text": [
            "Testing the implementation of the 'hash_int' function..\n",
            " \n",
            "good job!\n",
            "Tests passed. There may be hidden tests too\n"
          ],
          "name": "stdout"
        }
      ]
    },
    {
      "cell_type": "markdown",
      "metadata": {
        "deletable": false,
        "editable": false,
        "nbgrader": {
          "cell_type": "markdown",
          "checksum": "b18bda5f51586077c35420e77324e4aa",
          "grade": false,
          "grade_id": "cell-b9dc1b9fb6e80d1b",
          "locked": true,
          "schema_version": 3,
          "solution": false,
          "task": false
        },
        "id": "4B1RQ2Q1LcE5"
      },
      "source": [
        "4. Implement the encoder for the Scytale cipher: https://en.wikipedia.org/wiki/Scytale \n",
        "(encode all the characters, including spaces and non-letters)."
      ]
    },
    {
      "cell_type": "markdown",
      "metadata": {
        "deletable": false,
        "editable": false,
        "nbgrader": {
          "cell_type": "markdown",
          "checksum": "bae364b23585dc26caf3896fc092bda5",
          "grade": false,
          "grade_id": "cell-b6dcf7eee82e4fb1",
          "locked": true,
          "schema_version": 3,
          "solution": false,
          "task": false
        },
        "id": "ySeeXQypLcE6"
      },
      "source": [
        "Q1.4: Implement function `scytale_encode`, which will encrypt the input text according to the scytale code and with N as \"cylinder width\".\n",
        "<pre> \n",
        "------------\n",
        "Input parameters:\n",
        "- plaintext - string, the text that needs to be encoded\n",
        "- N - int, size of jump (for instance, in the wikipedia example, N=5). \n",
        "------------\n",
        "return value:\n",
        "string, the text after decoding\n",
        "</pre> "
      ]
    },
    {
      "cell_type": "code",
      "metadata": {
        "deletable": false,
        "nbgrader": {
          "cell_type": "code",
          "checksum": "35f8d9cec2987647a27b32d2ad69aa96",
          "grade": false,
          "grade_id": "cell-a74f19da20d8c32c",
          "locked": false,
          "schema_version": 3,
          "solution": true,
          "task": false
        },
        "id": "Ln16c_2NLcE6"
      },
      "source": [
        "def scytale_encode(plaintext,N=5):\n",
        "    # YOUR CODE HERE\n",
        "    scytale = []\n",
        "    encoded = \"\"\n",
        "    i = 0\n",
        "    k = 0\n",
        "    while i < len(plaintext):\n",
        "      loop = []\n",
        "      while k < N and i < len(plaintext):\n",
        "        loop.append(plaintext[i])\n",
        "        i = i + 1\n",
        "        k = k + 1\n",
        "      scytale.append(loop)\n",
        "      k = 0\n",
        "    for k in range(N):\n",
        "      for i in range(len(scytale)):\n",
        "        if k < len(scytale[i]):\n",
        "          encoded = encoded + scytale[i][k]\n",
        "    return encoded"
      ],
      "execution_count": 267,
      "outputs": []
    },
    {
      "cell_type": "code",
      "metadata": {
        "deletable": false,
        "editable": false,
        "nbgrader": {
          "cell_type": "code",
          "checksum": "d719a822159fbfabaf5ab620d7e9935f",
          "grade": true,
          "grade_id": "cell-fede5aa2fb49e35f",
          "locked": true,
          "points": 10,
          "schema_version": 3,
          "solution": false,
          "task": false
        },
        "id": "ARHOsZV9LcE6",
        "colab": {
          "base_uri": "https://localhost:8080/"
        },
        "outputId": "9e7ecb40-dd30-4cd3-c93d-11e008a93724"
      },
      "source": [
        "# --------------------------- RUN THIS TEST CODE CELL -------------------------------------\n",
        "# Q1.4 --- Test your implementation:\n",
        "# ---------------------------\n",
        "print (\"Testing the implementation of the 'ceasarCipherDecode' function..\\n \")\n",
        "assert type(scytale_encode(\"ABCabcABC\",3))==str,'output type is incorrect, should be string'\n",
        "print (\"good job!\\nTests passed. There may be hidden tests too\")\n"
      ],
      "execution_count": 268,
      "outputs": [
        {
          "output_type": "stream",
          "text": [
            "Testing the implementation of the 'ceasarCipherDecode' function..\n",
            " \n",
            "good job!\n",
            "Tests passed. There may be hidden tests too\n"
          ],
          "name": "stdout"
        }
      ]
    },
    {
      "cell_type": "markdown",
      "metadata": {
        "deletable": false,
        "editable": false,
        "id": "bkP87FaMG4yd",
        "nbgrader": {
          "cell_type": "markdown",
          "checksum": "6ae0511ee83067016781b7b261e1a6f4",
          "grade": false,
          "grade_id": "cell-ee0be9b1be675d3f",
          "locked": true,
          "schema_version": 3,
          "solution": false,
          "task": false
        }
      },
      "source": [
        "\n",
        "5. Implement a decoder, and demonstrate by encoding and then decoding the implementation of the Scytale filter, as before.\n",
        "\n",
        "<b>Please note:</b> in the case where the encoded text length isn't a multiple of the jump N, the decoder should still be able to reverse the encoding correctly! Make sure you've handled this case."
      ]
    },
    {
      "cell_type": "markdown",
      "metadata": {
        "deletable": false,
        "editable": false,
        "nbgrader": {
          "cell_type": "markdown",
          "checksum": "6d3cb18189720e66dfcd834dc7500a7f",
          "grade": false,
          "grade_id": "cell-0b516b713adc25e9",
          "locked": true,
          "schema_version": 3,
          "solution": false,
          "task": false
        },
        "id": "v_CS0PrHLcE7"
      },
      "source": [
        "Q1.5A: Implement function `scytale_cipher_decode`, which will restore the cyphertext created by `scytale_encode` to plaintext\n",
        "<pre> \n",
        "------------\n",
        "Input parameters:\n",
        "- cyphertext - string, the encoded text that needs to be decyphered\n",
        "- N - int, size of jump\n",
        "------------\n",
        "return value:\n",
        "string, the text after decoding\n",
        "</pre> "
      ]
    },
    {
      "cell_type": "code",
      "metadata": {
        "deletable": false,
        "nbgrader": {
          "cell_type": "code",
          "checksum": "1c1a946f5482321328ed9495599fb42a",
          "grade": false,
          "grade_id": "cell-1780c42a6fe02cf5",
          "locked": false,
          "schema_version": 3,
          "solution": true,
          "task": false
        },
        "id": "fGKWFbgiLcE7"
      },
      "source": [
        "def scytale_cipher_decode(cyphertext,N):\n",
        "    # YOUR CODE HERE\n",
        "    scytale = []\n",
        "    encoded = \"\"\n",
        "    i = 0\n",
        "    k = 0\n",
        "    neededSize = len(cyphertext)/N\n",
        "    extraSize = len(cyphertext) % N\n",
        "    lastSize = 0\n",
        "    while i < len(cyphertext):\n",
        "      loop = []\n",
        "      lastSize = neededSize\n",
        "      if extraSize > 0:\n",
        "        lastSize = lastSize + 1\n",
        "        extraSize = extraSize - 1\n",
        "      k = 0\n",
        "      while k < int(lastSize) and i < len(cyphertext):\n",
        "        loop.append(cyphertext[i])\n",
        "        k = k + 1\n",
        "        i = i + 1\n",
        "      scytale.append(loop)\n",
        "    for j in range(len(scytale[0])):\n",
        "      for arr in range(len(scytale)):\n",
        "        if j < len(scytale[arr]):\n",
        "          encoded = encoded + scytale[arr][j]\n",
        "    return encoded"
      ],
      "execution_count": 269,
      "outputs": []
    },
    {
      "cell_type": "code",
      "metadata": {
        "deletable": false,
        "editable": false,
        "nbgrader": {
          "cell_type": "code",
          "checksum": "362b7a36f036af0704e7b80688f2f282",
          "grade": true,
          "grade_id": "cell-7525afb85c29fb34",
          "locked": true,
          "points": 8,
          "schema_version": 3,
          "solution": false,
          "task": false
        },
        "id": "IpiUeL1FLcE7",
        "colab": {
          "base_uri": "https://localhost:8080/"
        },
        "outputId": "a12ea2a0-07ce-4cb0-fd1c-20fb6dda723d"
      },
      "source": [
        "# --------------------------- RUN THIS TEST CODE CELL -------------------------------------\n",
        "# Q1.5A --- Test your implementation:\n",
        "# ---------------------------\n",
        "print (\"Testing the implementation of the 'ceasarCipherDecode' function..\\n \")\n",
        "assert type(scytale_cipher_decode(\"ABCDefgh\",4))==str,'output type is incorrect, should be string'\n",
        "print (\"good job!\\nTests passed. There may be hidden tests too\")"
      ],
      "execution_count": 270,
      "outputs": [
        {
          "output_type": "stream",
          "text": [
            "Testing the implementation of the 'ceasarCipherDecode' function..\n",
            " \n",
            "good job!\n",
            "Tests passed. There may be hidden tests too\n"
          ],
          "name": "stdout"
        }
      ]
    },
    {
      "cell_type": "markdown",
      "metadata": {
        "deletable": false,
        "editable": false,
        "nbgrader": {
          "cell_type": "markdown",
          "checksum": "84d7b76c50aa792ef2bf3f3a41341a4e",
          "grade": false,
          "grade_id": "cell-e6f745769929987d",
          "locked": true,
          "schema_version": 3,
          "solution": false,
          "task": false
        },
        "id": "b6fenfMiLcE7"
      },
      "source": [
        "Q1.5B: Implement functions `return_encrypted_scytale_code`, which will return a string that equals the code of `scytale_encode` after encryption, with N=3 . Then, implement a function `return_decoded_scytale_code` which will call `return_encrypted_scytale_code` and return the decrypted outcome. You may print the output to verify that it matches the original.\n",
        "<pre> \n",
        "return_encrypted_scytale_code()\n",
        "------------\n",
        "Input parameters:\n",
        "none\n",
        "------------\n",
        "return value:\n",
        "string, the encrypted source code\n",
        "</pre> \n",
        "\n",
        "<pre> \n",
        "return_decoded_scytale_code()\n",
        "------------\n",
        "Input parameters:\n",
        "encrypted_code - the output of return_encrypted_scytale_code()\n",
        "------------\n",
        "return value:\n",
        "string, the source code restored to plaintext\n",
        "</pre> "
      ]
    },
    {
      "cell_type": "code",
      "metadata": {
        "deletable": false,
        "nbgrader": {
          "cell_type": "code",
          "checksum": "1cef96a02702895e050895e94f07b8c4",
          "grade": false,
          "grade_id": "cell-0e04f341a44584a7",
          "locked": false,
          "schema_version": 3,
          "solution": true,
          "task": false
        },
        "id": "lVjOXlEWLcE8",
        "colab": {
          "base_uri": "https://localhost:8080/"
        },
        "outputId": "983a513e-fd5b-4faf-f31f-83c4fdb03d78"
      },
      "source": [
        "def return_encrypted_scytale_code():\n",
        "    # YOUR CODE HERE\n",
        "    plaintext =  \"\"\"scytale = []\n",
        "    encoded = \"\"\n",
        "    i = 0\n",
        "    k = 0\n",
        "    while i < len(plaintext):\n",
        "      loop = []\n",
        "      while k < N and i < len(plaintext):\n",
        "        loop.append(plaintext[i])\n",
        "        i = i + 1\n",
        "        k = k + 1\n",
        "      scytale.append(loop)\n",
        "      k = 0\n",
        "    for k in range(N):\n",
        "      for i in range(len(scytale)):\n",
        "        if k < len(scytale[i]):\n",
        "          encoded = encoded + scytale[i][k]\n",
        "    return encoded\"\"\"\n",
        "    return scytale_encode(plaintext,3)\n",
        "    \n",
        "def return_decoded_scytale_code(encrypted_code=return_encrypted_scytale_code()):\n",
        "    # YOUR CODE HERE\n",
        "    return scytale_cipher_decode(encrypted_code,3)\n",
        "\n",
        "print(return_decoded_scytale_code())"
      ],
      "execution_count": 271,
      "outputs": [
        {
          "output_type": "stream",
          "text": [
            "scytale = []\n",
            "    encoded = \"\"\n",
            "    i = 0\n",
            "    k = 0\n",
            "    while i < len(plaintext):\n",
            "      loop = []\n",
            "      while k < N and i < len(plaintext):\n",
            "        loop.append(plaintext[i])\n",
            "        i = i + 1\n",
            "        k = k + 1\n",
            "      scytale.append(loop)\n",
            "      k = 0\n",
            "    for k in range(N):\n",
            "      for i in range(len(scytale)):\n",
            "        if k < len(scytale[i]):\n",
            "          encoded = encoded + scytale[i][k]\n",
            "    return encoded\n"
          ],
          "name": "stdout"
        }
      ]
    },
    {
      "cell_type": "code",
      "metadata": {
        "deletable": false,
        "editable": false,
        "nbgrader": {
          "cell_type": "code",
          "checksum": "5750992692397ee6c52d63c94078997a",
          "grade": true,
          "grade_id": "cell-bef06a38f2c90ce7",
          "locked": true,
          "points": 2,
          "schema_version": 3,
          "solution": false,
          "task": false
        },
        "id": "L4LZf5KWLcE8",
        "colab": {
          "base_uri": "https://localhost:8080/"
        },
        "outputId": "a34018be-4cf9-49d6-95f8-e9e757d06b5e"
      },
      "source": [
        "# --------------------------- RUN THIS TEST CODE CELL -------------------------------------\n",
        "# Q1.5B --- Test your implementation:\n",
        "# ---------------------------\n",
        "print (\"Testing the implementation of the 'ceasarCipherDecode' function..\\n \")\n",
        "assert type(return_encrypted_scytale_code())==str,'output type is incorrect, should be string'\n",
        "assert type(return_decoded_scytale_code())==str,'output type is incorrect, should be string'\n",
        "assert type(return_decoded_scytale_code(\"some_arbitrary_string\"))==str,'output type is incorrect, should be string'\n",
        "print (\"good job!\\nTests passed. There may be hidden tests too\")"
      ],
      "execution_count": 272,
      "outputs": [
        {
          "output_type": "stream",
          "text": [
            "Testing the implementation of the 'ceasarCipherDecode' function..\n",
            " \n",
            "good job!\n",
            "Tests passed. There may be hidden tests too\n"
          ],
          "name": "stdout"
        }
      ]
    },
    {
      "cell_type": "markdown",
      "metadata": {
        "deletable": false,
        "editable": false,
        "id": "6VWZ6SVnG4yd",
        "nbgrader": {
          "cell_type": "markdown",
          "checksum": "8d9db8cec715eddc3c4b796dd5522921",
          "grade": false,
          "grade_id": "cell-9086fa9408f25eac",
          "locked": true,
          "schema_version": 3,
          "solution": false,
          "task": false
        }
      },
      "source": [
        "# Question 2: Hash tables\n",
        "\n",
        "The code cell below contains emergency phone numbers of the university (taken from https://in.bgu.ac.il/logistics/Pages/dialing_rules.aspx). A single entity may have several phone numbers.\n",
        "\n",
        "You will implement a ‘truecaller’ facility: given a phone number, output the name of the entity. For example,\n",
        "```python\n",
        "caller = truecaller(t, 4100)\n",
        "print(f\"{caller} called!\")\n",
        "```\n",
        "```truecaller``` should return “Police”. \n",
        "\n",
        "if the number is not found, the function should return None\n",
        "\n",
        "Q1. Implement 'truecaller' using a Python dictionary\n"
      ]
    },
    {
      "cell_type": "code",
      "metadata": {
        "deletable": false,
        "editable": false,
        "nbgrader": {
          "cell_type": "code",
          "checksum": "e29a08da5e6ef429987b3dc91e282a60",
          "grade": false,
          "grade_id": "cell-48597a6db620e77d",
          "locked": true,
          "schema_version": 3,
          "solution": false,
          "task": false
        },
        "id": "IJEKHCVULcE9"
      },
      "source": [
        "  phonebook = [\n",
        "    [\"Security\",\n",
        "     '61888', '61555', '61444'],\n",
        "    [\"Police\",\n",
        "    '100', '4100'],\n",
        "    [\"Magen David Adom\",\n",
        "    '101', '4101'],\n",
        "    [\"Fire brigade\",\n",
        "    '102', '4102'],\n",
        "    [\"Soroka hospital\",\n",
        "    '4007']\n",
        "]\n",
        "    "
      ],
      "execution_count": 273,
      "outputs": []
    },
    {
      "cell_type": "markdown",
      "metadata": {
        "deletable": false,
        "editable": false,
        "nbgrader": {
          "cell_type": "markdown",
          "checksum": "c1a90732bc744869c63a7cf42226165d",
          "grade": false,
          "grade_id": "cell-7d36160eaa5dd458",
          "locked": true,
          "schema_version": 3,
          "solution": false,
          "task": false
        },
        "id": "63eHU0v1LcE-"
      },
      "source": [
        "Q2.1A : Implement an auxiliary `make_trucaller_python_dictionary` function that converts the provided `phonebook` list into a Python dictionary\n",
        "<pre> \n",
        "------------\n",
        "Input parameters:\n",
        "- phn - a Python list, as `phonebook`, where every item is a list of strings. The first string is the caller's name, the following strings are phone numbers\n",
        "------------\n",
        "return value:\n",
        "Python dictionary\n",
        "------------\n",
        "</pre>"
      ]
    },
    {
      "cell_type": "code",
      "metadata": {
        "deletable": false,
        "nbgrader": {
          "cell_type": "code",
          "checksum": "ce4f04501d8a92ee13bc03a87ea9b21f",
          "grade": false,
          "grade_id": "cell-87a450fdc22b0d47",
          "locked": false,
          "schema_version": 3,
          "solution": true,
          "task": false
        },
        "id": "CTmx4TXKLcE-"
      },
      "source": [
        "def make_truecaller_python_dictionary(phn=phonebook):\n",
        "    # YOUR CODE HERE\n",
        "    diction = {}\n",
        "    for i in range(len(phn)):\n",
        "      for k in range(1,len(phn[i])):\n",
        "        diction[phn[i][k]] = phn[i][0]\n",
        "    return diction"
      ],
      "execution_count": 274,
      "outputs": []
    },
    {
      "cell_type": "markdown",
      "metadata": {
        "deletable": false,
        "editable": false,
        "nbgrader": {
          "cell_type": "markdown",
          "checksum": "a99b1f4d8ac0b19749ce1b4ab8db0412",
          "grade": false,
          "grade_id": "cell-55a3a47d02905ced",
          "locked": true,
          "schema_version": 3,
          "solution": false,
          "task": false
        },
        "id": "2tvRc-VJLcE-"
      },
      "source": [
        "Q2.1B : Implement a `truecaller1` function, relying on `make_truecaller_python_dictionary`, which takes as input a phone number, and outputs a string with the caller's name as it appears in the phonebook (or returns None if the number couldn't be found).\n",
        "<pre> \n",
        "------------\n",
        "Input parameters:\n",
        "- phone_number - a string, containing a phone number\n",
        "------------\n",
        "return value:\n",
        "a string , with the caller's name\n",
        "------------\n",
        "</pre>"
      ]
    },
    {
      "cell_type": "code",
      "metadata": {
        "deletable": false,
        "nbgrader": {
          "cell_type": "code",
          "checksum": "5ded6245582e8440d3eefc098222e703",
          "grade": false,
          "grade_id": "cell-9e86c1484dcf36f4",
          "locked": false,
          "schema_version": 3,
          "solution": true,
          "task": false
        },
        "id": "wTnSPFG9LcE-"
      },
      "source": [
        "python_dict= make_truecaller_python_dictionary(phonebook)\n",
        "def truecaller1(phone_number,caller_dict=python_dict):\n",
        "    # YOUR CODE HERE\n",
        "    return caller_dict.get(phone_number)"
      ],
      "execution_count": 275,
      "outputs": []
    },
    {
      "cell_type": "code",
      "metadata": {
        "deletable": false,
        "editable": false,
        "nbgrader": {
          "cell_type": "code",
          "checksum": "00346b0aef73e69ad538737f063a91ee",
          "grade": true,
          "grade_id": "cell-1be6975be3ec4742",
          "locked": true,
          "points": 12,
          "schema_version": 3,
          "solution": false,
          "task": false
        },
        "id": "QFXqe7QlLcE_",
        "colab": {
          "base_uri": "https://localhost:8080/"
        },
        "outputId": "35ad007f-d413-425f-8a23-72bafc9393ec"
      },
      "source": [
        "# --------------------------- RUN THIS TEST CODE CELL -------------------------------------\n",
        "# Q2.1 --- Test your implementation:\n",
        "# ---------------------------\n",
        "print (\"Testing the implementation of the 'make_truecaller_python_dictionary' function..\\n \")\n",
        "assert type(make_truecaller_python_dictionary())==dict,'output type is incorrect, should be python dictionary'\n",
        "print (\"Testing the implementation of the 'truecaller1' function..\\n \")\n",
        "assert type(truecaller1('101'))==str,'output type is incorrect, should be string'\n",
        "print (\"good job!\\nTests passed. There may be hidden tests too\")\n"
      ],
      "execution_count": 276,
      "outputs": [
        {
          "output_type": "stream",
          "text": [
            "Testing the implementation of the 'make_truecaller_python_dictionary' function..\n",
            " \n",
            "Testing the implementation of the 'truecaller1' function..\n",
            " \n",
            "good job!\n",
            "Tests passed. There may be hidden tests too\n"
          ],
          "name": "stdout"
        }
      ]
    },
    {
      "cell_type": "markdown",
      "metadata": {
        "deletable": false,
        "editable": false,
        "nbgrader": {
          "cell_type": "markdown",
          "checksum": "26904c195d7bad0b77d00cb699bd71c4",
          "grade": false,
          "grade_id": "cell-b53c70bd58bd6294",
          "locked": true,
          "schema_version": 3,
          "solution": false,
          "task": false
        },
        "id": "YuOwZ27OLcE_"
      },
      "source": [
        "\n",
        "Q2. Implement \"truecaller2\" using your own implementation of dictionary:"
      ]
    },
    {
      "cell_type": "code",
      "metadata": {
        "deletable": false,
        "nbgrader": {
          "cell_type": "code",
          "checksum": "51583e85fc927ff37594fb13ed28e45b",
          "grade": false,
          "grade_id": "cell-f06f7223c2e94a50",
          "locked": false,
          "schema_version": 3,
          "solution": true,
          "task": false
        },
        "id": "as2aqDClLcE_"
      },
      "source": [
        "#You can add auxiliary functions, according to your discretion\n",
        "# YOUR CODE HERE\n",
        "def maket(n):\n",
        "    # t = []\n",
        "    # for _ in range(n):\n",
        "    #     t.append([])\n",
        "    # return t\n",
        "    return [list() for _ in range(n)]\n",
        "\n",
        "def tset(table, key, value, h=hash):\n",
        "    i = h(key) % len(table)\n",
        "    entry = table[i]\n",
        "    for i, (k, v) in enumerate(entry):\n",
        "        if key==k:\n",
        "            entry[i] = (key, value)\n",
        "            return\n",
        "    entry.append((key, value))\n",
        "        \n",
        "def tget(table, key, h=hash):\n",
        "    i = h(key) % len(table)\n",
        "    entry = table[i]\n",
        "    for i, (k, v) in enumerate(entry):\n",
        "        if key==k:\n",
        "            return v\n",
        "    return None"
      ],
      "execution_count": 277,
      "outputs": []
    },
    {
      "cell_type": "markdown",
      "metadata": {
        "deletable": false,
        "editable": false,
        "nbgrader": {
          "cell_type": "markdown",
          "checksum": "e37fabd165e67218629e56b45dcd2dda",
          "grade": false,
          "grade_id": "cell-ce0d376f5cbd3dc8",
          "locked": true,
          "schema_version": 3,
          "solution": false,
          "task": false
        },
        "id": "Z5W_2YBPLcE_"
      },
      "source": [
        "Q2.2A : Implement an auxiliary `make_truecaller_own_implement_dictionary` function that converts the provided `phonebook` list into a structure that behaves like a hash table\n",
        "    \n",
        "<pre> \n",
        "------------\n",
        "Input parameters:\n",
        "- phn - a Python list, as `phonebook`, where every item is a list of strings. The first string is the caller's name, the following strings are phone numbers\n",
        "------------\n",
        "return value:\n",
        "a Python list\n",
        "------------\n",
        "</pre>"
      ]
    },
    {
      "cell_type": "code",
      "metadata": {
        "deletable": false,
        "nbgrader": {
          "cell_type": "code",
          "checksum": "ab47e533d5ebb36eda77ddf784e342af",
          "grade": false,
          "grade_id": "cell-0f5cd96a463d46c9",
          "locked": false,
          "schema_version": 3,
          "solution": true,
          "task": false
        },
        "id": "pjudh3AILcE_"
      },
      "source": [
        "def make_truecaller_own_implement_dictionary(phBook=phonebook):\n",
        "    # YOUR CODE HERE\n",
        "    truecaller2 = maket(len(phBook))\n",
        "    for i in range(len(phBook)):\n",
        "      for k in range(1,len(phBook[i])):\n",
        "        tset(truecaller2, phBook[i][k], phBook[i][0])\n",
        "    return truecaller2"
      ],
      "execution_count": 278,
      "outputs": []
    },
    {
      "cell_type": "markdown",
      "metadata": {
        "deletable": false,
        "editable": false,
        "nbgrader": {
          "cell_type": "markdown",
          "checksum": "bc00b99c395d59c41e1010ce10c74fe6",
          "grade": false,
          "grade_id": "cell-031343b377270d96",
          "locked": true,
          "schema_version": 3,
          "solution": false,
          "task": false
        },
        "id": "xtdSjboWLcFA"
      },
      "source": [
        "Q2.2B : Implement a `truecaller2` function, relying on `make_truecaller_own_implement_dictionary`, which takes as input a phone number, and outputs a string with the caller's name as it appears in the phonebook (or returns None if the number couldn't be found).\n",
        "<pre> \n",
        "------------\n",
        "Input parameters:\n",
        "- phone_number - a string, containing a phone number\n",
        "------------\n",
        "return value:\n",
        "a string , with the caller's name\n",
        "------------\n",
        "</pre>"
      ]
    },
    {
      "cell_type": "code",
      "metadata": {
        "deletable": false,
        "nbgrader": {
          "cell_type": "code",
          "checksum": "edb73e768f07fc5f424f8a5ff9c577d3",
          "grade": false,
          "grade_id": "cell-a2c907715447ebae",
          "locked": false,
          "schema_version": 3,
          "solution": true,
          "task": false
        },
        "id": "RZwOnzV-LcFA",
        "colab": {
          "base_uri": "https://localhost:8080/"
        },
        "outputId": "1ddc5dee-31af-4c49-d40e-3072c5606de6"
      },
      "source": [
        "make_own_dictionary=make_truecaller_own_implement_dictionary()\n",
        "def truecaller2(phone_number,own_dictionary=make_own_dictionary):\n",
        "    # YOUR CODE HERE\n",
        "    return tget(own_dictionary,phone_number)\n",
        "\n",
        "print(truecaller2(\"102\",own_dictionary=make_own_dictionary))"
      ],
      "execution_count": 279,
      "outputs": [
        {
          "output_type": "stream",
          "text": [
            "Fire brigade\n"
          ],
          "name": "stdout"
        }
      ]
    },
    {
      "cell_type": "code",
      "metadata": {
        "deletable": false,
        "editable": false,
        "nbgrader": {
          "cell_type": "code",
          "checksum": "8027d662391b1fd881935746d2789b21",
          "grade": true,
          "grade_id": "cell-9bd7a35c7e4305a6",
          "locked": true,
          "points": 12,
          "schema_version": 3,
          "solution": false,
          "task": false
        },
        "id": "2X3MQ1roLcFA",
        "colab": {
          "base_uri": "https://localhost:8080/"
        },
        "outputId": "ad2bf963-0002-4bb6-824c-420cda04f42a"
      },
      "source": [
        "# --------------------------- RUN THIS TEST CODE CELL -------------------------------------\n",
        "# Q2.2 --- Test your implementation:\n",
        "# ---------------------------\n",
        "print (\"Testing the implementation of the 'make_truecaller_python_dictionary' function..\\n \")\n",
        "assert type(make_truecaller_own_implement_dictionary())==list,'output type is incorrect, should be list'\n",
        "print (\"Testing the implementation of the 'truecaller1' function..\\n \")\n",
        "assert type(truecaller2('102'))==str,'output type is incorrect, should be string'\n",
        "print (\"good job!\\nTests passed. There may be hidden tests too\")\n"
      ],
      "execution_count": 280,
      "outputs": [
        {
          "output_type": "stream",
          "text": [
            "Testing the implementation of the 'make_truecaller_python_dictionary' function..\n",
            " \n",
            "Testing the implementation of the 'truecaller1' function..\n",
            " \n",
            "good job!\n",
            "Tests passed. There may be hidden tests too\n"
          ],
          "name": "stdout"
        }
      ]
    },
    {
      "cell_type": "markdown",
      "metadata": {
        "deletable": false,
        "editable": false,
        "nbgrader": {
          "cell_type": "markdown",
          "checksum": "4c4a9853c1d73f1a9b5042bc02bc48c8",
          "grade": false,
          "grade_id": "cell-843117891a9d6578",
          "locked": true,
          "schema_version": 3,
          "solution": false,
          "task": false
        },
        "id": "Not-91M3LcFB"
      },
      "source": [
        "\n",
        "3. Implement a hash function `hash_string` for phone numbers. Treat phone numbers as _strings_ of characters. \n"
      ]
    },
    {
      "cell_type": "markdown",
      "metadata": {
        "deletable": false,
        "editable": false,
        "nbgrader": {
          "cell_type": "markdown",
          "checksum": "52bc9db9949c6c18dcf4df7e7a9c2e64",
          "grade": false,
          "grade_id": "cell-f61fd6552776dcdc",
          "locked": true,
          "schema_version": 3,
          "solution": false,
          "task": false
        },
        "id": "x3hkl-3dLcFB"
      },
      "source": [
        "<pre> \n",
        "------------\n",
        "Input parameters:\n",
        "- str_to_hash - a string\n",
        "------------\n",
        "return value:\n",
        "an integer\n",
        "------------\n",
        "</pre>"
      ]
    },
    {
      "cell_type": "code",
      "metadata": {
        "deletable": false,
        "nbgrader": {
          "cell_type": "code",
          "checksum": "4a71b2773ec5238b47184fd0bb362581",
          "grade": false,
          "grade_id": "cell-907e0df43371898d",
          "locked": false,
          "schema_version": 3,
          "solution": true,
          "task": false
        },
        "id": "rQy76YGFLcFB"
      },
      "source": [
        "def hash_string(str_to_hash):\n",
        "    # YOUR CODE HERE\n",
        "    h = 0\n",
        "    for c in str_to_hash:\n",
        "        h = 31*h + ord(c)\n",
        "    return h"
      ],
      "execution_count": 281,
      "outputs": []
    },
    {
      "cell_type": "code",
      "metadata": {
        "deletable": false,
        "editable": false,
        "nbgrader": {
          "cell_type": "code",
          "checksum": "9f08e1b4ec20a8d3b4e07b1abcfb8483",
          "grade": true,
          "grade_id": "cell-6074fd7cee4c2b6d",
          "locked": true,
          "points": 12,
          "schema_version": 3,
          "solution": false,
          "task": false
        },
        "id": "iN_POuhSLcFB",
        "colab": {
          "base_uri": "https://localhost:8080/"
        },
        "outputId": "49410a2a-3a2b-44bb-cc15-321eef2d0df3"
      },
      "source": [
        "\n",
        "# --------------------------- RUN THIS TEST CODE CELL -------------------------------------\n",
        "# Q2.3 --- Test your implementation:\n",
        "# ---------------------------\n",
        "print (\"Testing the implementation of the 'hash_string' function..\\n \")\n",
        "assert type(hash_string(\"some string\"))==int,'output should be an integer'\n",
        "print (\"good job!\\nTests passed. There may be hidden tests too\")\n",
        "\n"
      ],
      "execution_count": 282,
      "outputs": [
        {
          "output_type": "stream",
          "text": [
            "Testing the implementation of the 'hash_string' function..\n",
            " \n",
            "good job!\n",
            "Tests passed. There may be hidden tests too\n"
          ],
          "name": "stdout"
        }
      ]
    },
    {
      "cell_type": "markdown",
      "metadata": {
        "deletable": false,
        "editable": false,
        "nbgrader": {
          "cell_type": "markdown",
          "checksum": "307a2d55bf985c8d22213f9cb3beda54",
          "grade": false,
          "grade_id": "cell-59a6c62f24842735",
          "locked": true,
          "schema_version": 3,
          "solution": false,
          "task": false
        },
        "id": "sFHrJGSSLcFC"
      },
      "source": [
        "\n",
        "4. Hashing is called ‘perfect’ if there are no ‘key conflicts‘ — each entry in the hash table contains a single key-value pair. (Remember, we saw in class that if the table size is too small, multiple keys are mapped to the same entry).  What is the minimum table size that creates a perfect hash for the phonebook data with the hash from 2 (built-in hash), and from 3 (custom hash on strings)? Implement functions that return the minimum lengths for each case. "
      ]
    },
    {
      "cell_type": "markdown",
      "metadata": {
        "deletable": false,
        "editable": false,
        "nbgrader": {
          "cell_type": "markdown",
          "checksum": "99af97158441a11b216d70396594a124",
          "grade": false,
          "grade_id": "cell-e0ac0c1f1b26fec6",
          "locked": true,
          "schema_version": 3,
          "solution": false,
          "task": false
        },
        "id": "FcTTFqrILcFC"
      },
      "source": [
        "Implement functions `min_size_for_perfecthash_builtin`,`min_size_for_perfecthash_strhash` that return the correct answers for each type of hash - the built-in Python hash and the function `hash_string` you have implemented above:\n",
        "\n",
        "<pre> \n",
        "------------\n",
        "Input parameters: none\n",
        "------------\n",
        "return value: an integer, the minimum size for the appropriate type of hash\n",
        "------------\n",
        "</pre>"
      ]
    },
    {
      "cell_type": "code",
      "metadata": {
        "deletable": false,
        "nbgrader": {
          "cell_type": "code",
          "checksum": "a2be1c19387d62a85dc5ca93502f20bf",
          "grade": false,
          "grade_id": "cell-a5389da6f18d38bd",
          "locked": false,
          "schema_version": 3,
          "solution": true,
          "task": false
        },
        "id": "rdnSPStbLcFC"
      },
      "source": [
        "#You can add auxiliary functions, according to your discretion\n",
        "# YOUR CODE HERE\n",
        "def truecaller3(size, h = hash_string, phB = phonebook):\n",
        "    theTable = maket(size)\n",
        "    for i in range(len(phB)):\n",
        "      for k in range(1,len(phB[i])):\n",
        "        tset(theTable,phB[i][k],phB[i][0],h)\n",
        "    return theTable"
      ],
      "execution_count": 283,
      "outputs": []
    },
    {
      "cell_type": "code",
      "metadata": {
        "deletable": false,
        "nbgrader": {
          "cell_type": "code",
          "checksum": "f68cab6f2706d22146f9b1ed3839070d",
          "grade": false,
          "grade_id": "cell-cba9f3c0fcdfb195",
          "locked": false,
          "schema_version": 3,
          "solution": true,
          "task": false
        },
        "id": "afd3_clpLcFC"
      },
      "source": [
        "def min_size_for_perfecthash_builtin():\n",
        "    # YOUR CODE HERE\n",
        "    erorr = True\n",
        "    size = 1\n",
        "    while erorr == True:\n",
        "      advance = False\n",
        "      test_table = truecaller3(size,hash)\n",
        "      for i in test_table:\n",
        "        if len(i) > 1:\n",
        "          advance = True\n",
        "          break\n",
        "      if advance == True:\n",
        "        size = size + 1\n",
        "      else:\n",
        "        erorr = False\n",
        "    return size\n",
        "\n",
        "def min_size_for_perfecthash_strhash():\n",
        "    # YOUR CODE HERE\n",
        "    erorr = True\n",
        "    size = 1\n",
        "    while erorr == True:\n",
        "      advance = False\n",
        "      test_table = truecaller3(size,hash_string)\n",
        "      for i in test_table:\n",
        "        if len(i) > 1:\n",
        "          advance = True\n",
        "          break\n",
        "      if advance == True:\n",
        "        size = size + 1\n",
        "      else:\n",
        "        erorr = False\n",
        "    return size"
      ],
      "execution_count": 284,
      "outputs": []
    },
    {
      "cell_type": "code",
      "metadata": {
        "deletable": false,
        "editable": false,
        "nbgrader": {
          "cell_type": "code",
          "checksum": "f870adff00c6f80b62e243a540a2682a",
          "grade": true,
          "grade_id": "cell-cf67edd4a8ae7aa5",
          "locked": true,
          "points": 14,
          "schema_version": 3,
          "solution": false,
          "task": false
        },
        "id": "Iz2aoIPYLcFD",
        "colab": {
          "base_uri": "https://localhost:8080/"
        },
        "outputId": "03717370-a71a-4957-dd54-b86774083212"
      },
      "source": [
        "\n",
        "\n",
        "# --------------------------- RUN THIS TEST CODE CELL -------------------------------------\n",
        "# Q2.4 --- Test your implementation:\n",
        "# ---------------------------\n",
        "print (\"Testing the implementation of the min_size- functions..\\n \")\n",
        "assert type(min_size_for_perfecthash_builtin())==int,'output type should be an integer'\n",
        "assert type(min_size_for_perfecthash_strhash())==int,'output type should be an integer'\n",
        "print (\"good job!\\nTests passed. There may be hidden tests too\")\n"
      ],
      "execution_count": 285,
      "outputs": [
        {
          "output_type": "stream",
          "text": [
            "Testing the implementation of the min_size- functions..\n",
            " \n",
            "good job!\n",
            "Tests passed. There may be hidden tests too\n"
          ],
          "name": "stdout"
        }
      ]
    }
  ]
}